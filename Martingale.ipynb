{
 "cells": [
  {
   "cell_type": "code",
   "execution_count": 1,
   "metadata": {
    "collapsed": true
   },
   "outputs": [],
   "source": [
    "import numpy as np\n",
    "import matplotlib.pyplot as plt\n",
    "%matplotlib inline"
   ]
  },
  {
   "cell_type": "code",
   "execution_count": 197,
   "metadata": {
    "collapsed": true
   },
   "outputs": [],
   "source": [
    "def play_roulette(bet, win_probability=0.5):\n",
    "    '''\n",
    "    Place a bet and either gain an amount equal to that bet or lose it\n",
    "    \n",
    "    Args:\n",
    "        bet: Number of dollars to bet\n",
    "        win_probability: Probability that you will win\n",
    "        \n",
    "    Returns:\n",
    "        winnings: plus or minus your bet.\n",
    "    '''\n",
    "    outcome = 1 if np.random.random()<win_probability else -1\n",
    "    winnings = bet*outcome\n",
    "    return winnings"
   ]
  },
  {
   "cell_type": "code",
   "execution_count": 198,
   "metadata": {
    "collapsed": false
   },
   "outputs": [
    {
     "data": {
      "text/plain": [
       "-5"
      ]
     },
     "execution_count": 198,
     "metadata": {},
     "output_type": "execute_result"
    }
   ],
   "source": [
    "play_roulette(5,0.5)"
   ]
  },
  {
   "cell_type": "code",
   "execution_count": 196,
   "metadata": {
    "collapsed": false
   },
   "outputs": [
    {
     "name": "stdout",
     "output_type": "stream",
     "text": [
      "Bet exceeds maximum bet.  You lose.\n"
     ]
    },
    {
     "data": {
      "text/plain": [
       "<matplotlib.text.Text at 0x108449750>"
      ]
     },
     "execution_count": 196,
     "metadata": {},
     "output_type": "execute_result"
    },
    {
     "data": {
      "image/png": "[encoded data removed]",
      "text/plain": [
       "<matplotlib.figure.Figure at 0x1083fd290>"
      ]
     },
     "metadata": {},
     "output_type": "display_data"
    }
   ],
   "source": [
    "def play_martingale(bankroll, min_bet=5, max_bet=500, win_probability=0.5,verbose=True):\n",
    "    bankroll_log = [bankroll]\n",
    "    bet = min_bet\n",
    "    winnings = 0\n",
    "    while bankroll>=bet and bet<=max_bet and winnings <= 0:\n",
    "        winnings = play_roulette(bet,win_probability)\n",
    "        bankroll = bankroll + winnings\n",
    "        bankroll_log.append(bankroll)\n",
    "        bet = bet*2\n",
    "        if verbose:\n",
    "            if bet>max_bet:\n",
    "                print \"Bet exceeds maximum bet.  You lose.\"\n",
    "            if bankroll<=bet:\n",
    "                print \"You ran out of money.  You lose.\"\n",
    "            if winnings>0:\n",
    "                print \"Congratulations!  You won $%r!\" %winnings\n",
    "    return bankroll_log\n",
    "\n",
    "plt.plot(play_martingale(5000,verbose=True, win_probability=0.1))\n",
    "plt.xlabel('Roulette Spins')\n",
    "plt.ylabel('Bankroll')\n",
    "plt.title('Playing the Martingale')"
   ]
  },
  {
   "cell_type": "code",
   "execution_count": 319,
   "metadata": {
    "collapsed": false
   },
   "outputs": [],
   "source": [
    "def iterate_martingale(bankroll, target, min_bet=5, max_bet=500, win_probability=0.5, verbose = True):\n",
    "    bankroll_log = [bankroll]\n",
    "    bet = min_bet\n",
    "    winnings = 0\n",
    "    gain = 0\n",
    "    while bankroll>=bet and bet<=max_bet and gain<target:\n",
    "        winnings = play_roulette(bet,win_probability)\n",
    "        bankroll = bankroll + winnings\n",
    "        bankroll_log.append(bankroll)\n",
    "        gain = bankroll_log[-1] - bankroll_log[0]\n",
    "        if winnings<0:\n",
    "            bet = bet*2\n",
    "        else:\n",
    "            bet = min_bet\n",
    "        \n",
    "        if bet>max_bet:\n",
    "            outcome = \"Bet exceeds maximum bet.  You lose.\"\n",
    "        if bankroll<bet:\n",
    "            outcome = \"You're down to $%r, wich is not enough to make the required bet of $%r.  You lose.\" %(bankroll,bet)\n",
    "        if gain >= target:\n",
    "            outcome = \"Congratulations!  You won $%r!\" % gain\n",
    "            reached_target = 1\n",
    "        else: reached_target = 0\n",
    "        \n",
    "    if verbose:  \n",
    "        print outcome\n",
    "        plt.plot(bankroll_log)\n",
    "        plt.xlabel('Roulette Spins')\n",
    "        plt.ylabel('Bankroll')\n",
    "        plt.title('Repeated Martingale, Goal=$%r' % target)\n",
    "        \n",
    "    return reached_target"
   ]
  },
  {
   "cell_type": "code",
   "execution_count": 321,
   "metadata": {
    "collapsed": false
   },
   "outputs": [
    {
     "data": {
      "text/plain": [
       "0"
      ]
     },
     "execution_count": 321,
     "metadata": {},
     "output_type": "execute_result"
    }
   ],
   "source": [
    "iterate_martingale(500,1300,min_bet=5,max_bet=500,win_probability=18.0/38, verbose=False)"
   ]
  },
  {
   "cell_type": "code",
   "execution_count": 356,
   "metadata": {
    "collapsed": true
   },
   "outputs": [],
   "source": [
    "def simulate_martingales(bankroll, target, min_bet=5, max_bet=500, win_probability=0.5):\n",
    "    wins = 0\n",
    "    for i in range(1000):\n",
    "        wins = wins + iterate_martingale(bankroll,target,min_bet,max_bet,win_probability, verbose=False)\n",
    "    \n",
    "    win_pct = wins*1.0/1000\n",
    "    return win_pct"
   ]
  },
  {
   "cell_type": "code",
   "execution_count": 358,
   "metadata": {
    "collapsed": false
   },
   "outputs": [
    {
     "data": {
      "text/plain": [
       "0.9371"
      ]
     },
     "execution_count": 358,
     "metadata": {},
     "output_type": "execute_result"
    }
   ],
   "source": [
    "simulate_martingales(500,15,min_bet=5,max_bet=500,win_probability=18.0/38)"
   ]
  },
  {
   "cell_type": "code",
   "execution_count": 359,
   "metadata": {
    "collapsed": false
   },
   "outputs": [],
   "source": [
    "def test_targets(target_list,bankroll, min_bet=5, max_bet=500, win_probability=0.5):\n",
    "    win_pct_list = []\n",
    "    for target in target_list:\n",
    "        win_pct = simulate_martingales(bankroll, target, min_bet, max_bet, win_probability)\n",
    "        win_pct_list.append(win_pct)\n",
    "        \n",
    "    return win_pct_list\n",
    "\n",
    "target_list = [5,10,20,50,100,200,500,1000]\n",
    "wins_100 = test_targets(target_list,100)\n",
    "wins_500 = test_targets(target_list,500)\n",
    "wins_1000 = test_targets(target_list,1000)\n",
    "wins_2000 = test_targets(target_list,20000)"
   ]
  },
  {
   "cell_type": "code",
   "execution_count": 361,
   "metadata": {
    "collapsed": false
   },
   "outputs": [
    {
     "data": {
      "text/plain": [
       "<matplotlib.legend.Legend at 0x10a0af290>"
      ]
     },
     "execution_count": 361,
     "metadata": {},
     "output_type": "execute_result"
    },
    {
     "data": {
      "image/png": "[encoded data removed]",
      "text/plain": [
       "<matplotlib.figure.Figure at 0x109cc3290>"
      ]
     },
     "metadata": {},
     "output_type": "display_data"
    }
   ],
   "source": [
    "plt.plot(target_list,wins_100,label='$100')\n",
    "plt.plot(target_list,wins_500,label='$500')\n",
    "plt.plot(target_list,wins_1000,label='$1000')\n",
    "plt.plot(target_list,wins_2000,label='$20000')\n",
    "plt.xlabel('Target Winnings')\n",
    "plt.ylabel('Chance of Reaching Target')\n",
    "plt.title('Chance of Reaching Target Winnings ')\n",
    "plt.legend(title='Initial Bankroll')"
   ]
  }
 ],
 "metadata": {
  "kernelspec": {
   "display_name": "Python 2",
   "language": "python",
   "name": "python2"
  },
  "language_info": {
   "codemirror_mode": {
    "name": "ipython",
    "version": 2
   },
   "file_extension": ".py",
   "mimetype": "text/x-python",
   "name": "python",
   "nbconvert_exporter": "python",
   "pygments_lexer": "ipython2",
   "version": "2.7.9"
  }
 },
 "nbformat": 4,
 "nbformat_minor": 0
}
